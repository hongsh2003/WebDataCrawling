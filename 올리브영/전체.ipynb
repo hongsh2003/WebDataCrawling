{
 "cells": [
  {
   "cell_type": "code",
   "execution_count": 2,
   "id": "18365a84",
   "metadata": {},
   "outputs": [
    {
     "name": "stdout",
     "output_type": "stream",
     "text": [
      "✅ 데이터 저장 완료!\n"
     ]
    }
   ],
   "source": [
    "import requests\n",
    "from bs4 import BeautifulSoup\n",
    "import pandas as pd\n",
    "\n",
    "url = \"https://www.oliveyoung.co.kr/store/main/getBestList.do\"\n",
    "params = {\n",
    "    'dispCatNo': '900000100100001',  # 스킨케어 카테고리\n",
    "    'pageIdx': 1,\n",
    "    'rowsPerPage': 24\n",
    "}\n",
    "headers = {\n",
    "    \"User-Agent\": \"Mozilla/5.0\",\n",
    "    \"Content-Type\": \"application/x-www-form-urlencoded; charset=UTF-8\"\n",
    "}\n",
    "\n",
    "res = requests.post(url, data=params, headers=headers)\n",
    "\n",
    "# 타겟 URL\n",
    "url = \"https://www.oliveyoung.co.kr/store/main/getBestList.do?dispCatNo=900000100100001\"\n",
    "headers = {\n",
    "    \"User-Agent\": \"Mozilla/5.0\",\n",
    "    \"Referer\": \"https://www.oliveyoung.co.kr/\"\n",
    "}\n",
    "\n",
    "res = requests.get(url, headers=headers)\n",
    "soup = BeautifulSoup(res.text, 'html.parser')\n",
    "items = soup.select(\"ul.cate_prd_list > li\")\n",
    "\n",
    "products = []\n",
    "for item in items:\n",
    "    name_tag = item.select_one(\"div.prd_name a\")\n",
    "    price_nums = item.select(\"p.prd_price span.tx_num\")\n",
    "\n",
    "    name = name_tag.text.strip() if name_tag else None\n",
    "    original_price = price_nums[0].text.strip() if len(price_nums) > 1 else price_nums[0].text.strip()\n",
    "    discounted_price = price_nums[1].text.strip() if len(price_nums) > 1 else price_nums[0].text.strip()\n",
    "\n",
    "    if name:\n",
    "        products.append({\n",
    "            \"상품명\": name,\n",
    "            \"정가\": original_price,\n",
    "            \"할인가\": discounted_price\n",
    "        })\n",
    "\n",
    "df = pd.DataFrame(products)\n",
    "df.to_csv(\"oliveyoung_skincare.csv\", index=False, encoding=\"utf-8-sig\")\n",
    "print(\"✅ 데이터 저장 완료!\")\n"
   ]
  },
  {
   "cell_type": "code",
   "execution_count": null,
   "id": "c3d1fda1",
   "metadata": {},
   "outputs": [],
   "source": []
  }
 ],
 "metadata": {
  "kernelspec": {
   "display_name": "webcrawl_env",
   "language": "python",
   "name": "python3"
  },
  "language_info": {
   "codemirror_mode": {
    "name": "ipython",
    "version": 3
   },
   "file_extension": ".py",
   "mimetype": "text/x-python",
   "name": "python",
   "nbconvert_exporter": "python",
   "pygments_lexer": "ipython3",
   "version": "3.10.18"
  }
 },
 "nbformat": 4,
 "nbformat_minor": 5
}
