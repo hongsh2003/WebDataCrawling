{
 "cells": [
  {
   "cell_type": "markdown",
   "id": "f5d9566a",
   "metadata": {},
   "source": [
    "# 스킨케어 순위 csv로 저장하기"
   ]
  },
  {
   "cell_type": "code",
   "execution_count": null,
   "id": "51792b2a",
   "metadata": {},
   "outputs": [
    {
     "name": "stdout",
     "output_type": "stream",
     "text": [
      "데이터 저장 완료! 총 100 개\n"
     ]
    }
   ],
   "source": [
    "import requests\n",
    "from bs4 import BeautifulSoup\n",
    "import pandas as pd\n",
    "\n",
    "# 타겟 URL\n",
    "url = \"https://www.oliveyoung.co.kr/store/main/getBestList.do?dispCatNo=900000100100001&fltDispCatNo=10000010001&pageIdx=1&rowsPerPage=100\"\n",
    "headers = {\n",
    "    \"User-Agent\": \"Mozilla/5.0\",\n",
    "    \"Referer\": \"https://www.oliveyoung.co.kr/\"\n",
    "}\n",
    "\n",
    "res = requests.get(url, headers=headers)\n",
    "soup = BeautifulSoup(res.text, 'html.parser')\n",
    "items = soup.select(\"ul.cate_prd_list > li\")\n",
    "\n",
    "products = []\n",
    "for idx, item in enumerate(items, start=1):  # 순위: 1부터 시작\n",
    "    name_tag = item.select_one(\"div.prd_name a\")\n",
    "    price_nums = item.select(\"p.prd_price span.tx_num\")\n",
    "\n",
    "    name = name_tag.text.strip() if name_tag else None\n",
    "\n",
    "    # 가격 처리\n",
    "    if len(price_nums) > 1:\n",
    "        original_price = price_nums[0].text.strip()\n",
    "        discounted_price = price_nums[1].text.strip()\n",
    "    elif len(price_nums) == 1:\n",
    "        original_price = \"\"\n",
    "        discounted_price = price_nums[0].text.strip()\n",
    "    else:\n",
    "        original_price = \"\"\n",
    "        discounted_price = \"\"\n",
    "\n",
    "    if name:\n",
    "        products.append({\n",
    "            \"순위\": idx,\n",
    "            \"상품명\": name,\n",
    "            \"정가\": original_price,\n",
    "            \"할인가\": discounted_price\n",
    "        })\n",
    "\n",
    "# DataFrame 저장\n",
    "df = pd.DataFrame(products)\n",
    "df.to_csv(\"skincare_ranking1.csv\", index=False, encoding=\"utf-8-sig\")\n",
    "print(\"데이터 저장 완료! 총\", len(df), \"개\")\n"
   ]
  },
  {
   "cell_type": "markdown",
   "id": "80bdad31",
   "metadata": {},
   "source": [
    "# mysql에 넣기"
   ]
  },
  {
   "cell_type": "markdown",
   "id": "ca3e6880",
   "metadata": {},
   "source": [
    "## SQLite"
   ]
  },
  {
   "cell_type": "code",
   "execution_count": 38,
   "id": "ffb8b539",
   "metadata": {},
   "outputs": [
    {
     "name": "stdout",
     "output_type": "stream",
     "text": [
      "SQLite 저장 완료: oliveyoung.db, 총 100 개\n"
     ]
    }
   ],
   "source": [
    "import sqlite3\n",
    "\n",
    "# SQLite 연결 및 DB 파일 생성 (없으면 자동 생성)\n",
    "conn = sqlite3.connect(\"oliveyoung.db\")\n",
    "cursor = conn.cursor()\n",
    "\n",
    "# 테이블 생성 (없으면 생성)\n",
    "cursor.execute(\"\"\"\n",
    "CREATE TABLE IF NOT EXISTS oliveyoung_skincare (\n",
    "    id INTEGER PRIMARY KEY AUTOINCREMENT,\n",
    "    rank_order INTEGER,\n",
    "    name TEXT NOT NULL,\n",
    "    original_price TEXT,\n",
    "    discounted_price TEXT\n",
    ")\n",
    "\"\"\")\n",
    "\n",
    "# 데이터 삽입\n",
    "insert_query = \"\"\"\n",
    "INSERT INTO oliveyoung_skincare (rank_order, name, original_price, discounted_price)\n",
    "VALUES (?, ?, ?, ?)\n",
    "\"\"\"\n",
    "\n",
    "for _, row in df.iterrows():\n",
    "    values = (\n",
    "        int(row[\"순위\"]),\n",
    "        row[\"상품명\"],\n",
    "        row[\"정가\"],\n",
    "        row[\"할인가\"]\n",
    "    )\n",
    "    cursor.execute(insert_query, values)\n",
    "\n",
    "# 커밋 및 연결 종료\n",
    "conn.commit()\n",
    "conn.close()\n",
    "\n",
    "print(\"SQLite 저장 완료: oliveyoung.db, 총\", len(df), \"개\")\n"
   ]
  },
  {
   "cell_type": "markdown",
   "id": "19187572",
   "metadata": {},
   "source": [
    "## MySQL에 연결 후 저장"
   ]
  },
  {
   "cell_type": "code",
   "execution_count": null,
   "id": "6bbfb133",
   "metadata": {},
   "outputs": [
    {
     "name": "stdout",
     "output_type": "stream",
     "text": [
      "MySQL DB 저장 완료! 총 100 개\n"
     ]
    }
   ],
   "source": [
    "import pymysql\n",
    "\n",
    "# MySQL 연결 설정\n",
    "conn = pymysql.connect(\n",
    "    host='localhost',       \n",
    "    user='root',            \n",
    "    password='1234',    \n",
    "    database='oliveyoung',  # 위에서 만든 DB 이름\n",
    "    charset='utf8mb4',\n",
    "    autocommit=True\n",
    ")\n",
    "\n",
    "cursor = conn.cursor()\n",
    "\n",
    "# 테이블 생성 (없으면 생성)\n",
    "cursor.execute(\"\"\"\n",
    "CREATE TABLE IF NOT EXISTS oliveyoung_skincare (\n",
    "    id INT AUTO_INCREMENT PRIMARY KEY,\n",
    "    rank_order INT,\n",
    "    name VARCHAR(255) NOT NULL,\n",
    "    original_price VARCHAR(50),\n",
    "    discounted_price VARCHAR(50)\n",
    ")\n",
    "\"\"\")\n",
    "\n",
    "# 데이터 삽입\n",
    "insert_query = \"\"\"\n",
    "INSERT INTO oliveyoung_skincare (rank_order, name, original_price, discounted_price)\n",
    "VALUES (%s, %s, %s, %s)\n",
    "\"\"\"\n",
    "\n",
    "for _, row in df.iterrows():\n",
    "    values = (\n",
    "        int(row[\"순위\"]),\n",
    "        row[\"상품명\"],\n",
    "        row[\"정가\"],\n",
    "        row[\"할인가\"]\n",
    "    )\n",
    "    cursor.execute(insert_query, values)\n",
    "\n",
    "# 종료\n",
    "cursor.close()\n",
    "conn.close()\n",
    "\n",
    "print(\"MySQL DB 저장 완료! 총\", len(df), \"개\")\n"
   ]
  }
 ],
 "metadata": {
  "kernelspec": {
   "display_name": "webcrawl_env",
   "language": "python",
   "name": "python3"
  },
  "language_info": {
   "codemirror_mode": {
    "name": "ipython",
    "version": 3
   },
   "file_extension": ".py",
   "mimetype": "text/x-python",
   "name": "python",
   "nbconvert_exporter": "python",
   "pygments_lexer": "ipython3",
   "version": "3.10.18"
  }
 },
 "nbformat": 4,
 "nbformat_minor": 5
}
